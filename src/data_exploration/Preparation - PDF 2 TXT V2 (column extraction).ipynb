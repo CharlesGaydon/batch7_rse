{
 "cells": [
  {
   "cell_type": "markdown",
   "metadata": {},
   "source": [
    "Action performed:\n",
    "- PDFminer for pdf to txt conversion, for all input pdfs\n",
    "- From txt, description using nltk\n",
    "- summarization using nltk"
   ]
  },
  {
   "cell_type": "code",
   "execution_count": 1,
   "metadata": {},
   "outputs": [],
   "source": [
    "# general imports\n",
    "from pathlib import Path\n",
    "import os\n",
    "\n",
    "# processing imports\n",
    "import pandas as pd"
   ]
  },
  {
   "cell_type": "code",
   "execution_count": 72,
   "metadata": {},
   "outputs": [],
   "source": [
    "# utils elements to move to utils after development\n",
    "\n",
    "def getListOfFiles(dirName):\n",
    "    '''\n",
    "        For the given path, get the List of all files in the directory tree \n",
    "    '''\n",
    "    paths = []\n",
    "    for path, subdirs, files in os.walk(dirName):\n",
    "        for name in files:\n",
    "            paths.append((Path(path+name)))            \n",
    "    return paths\n",
    "\n",
    "from pdfminer.pdfdocument import PDFDocument, PDFNoOutlines\n",
    "from pdfminer.pdfparser import PDFParser\n",
    "from pdfminer.pdfinterp import PDFResourceManager, PDFPageInterpreter\n",
    "from pdfminer.converter import PDFPageAggregator\n",
    "from pdfminer.layout import LTPage, LTChar, LTAnno, LAParams, LTTextBox, LTTextLine\n",
    "\n",
    "class PDFPageDetailedAggregator(PDFPageAggregator):\n",
    "    def __init__(self, rsrcmgr, pageno=1, laparams=None):\n",
    "        PDFPageAggregator.__init__(self, rsrcmgr, pageno=pageno, laparams=laparams)\n",
    "        self.rows = []\n",
    "        self.page_number = 0\n",
    "    def receive_layout(self, ltpage):        \n",
    "        def render(item, page_number):\n",
    "            if isinstance(item, LTPage) or isinstance(item, LTTextBox):\n",
    "                for child in item:\n",
    "                    render(child, page_number)\n",
    "            elif isinstance(item, LTTextLine):\n",
    "                child_str = ''\n",
    "                for child in item:\n",
    "                    if isinstance(child, (LTChar, LTAnno)):\n",
    "                        child_str += child.get_text()\n",
    "                child_str = ' '.join(child_str.split()).strip()\n",
    "                if child_str:\n",
    "                    row = (page_number, item.bbox[0], item.bbox[1], item.bbox[2], item.bbox[3], child_str) # bbox == (x1, y1, x2, y2)\n",
    "                    self.rows.append(row)\n",
    "                for child in item:\n",
    "                    render(child, page_number)\n",
    "            return\n",
    "        render(ltpage, self.page_number)\n",
    "        self.page_number += 1\n",
    "        self.rows = sorted(self.rows, key = lambda x: (x[0], -x[2]))\n",
    "        self.result = ltpage\n",
    "\n",
    "from collections import OrderedDict\n",
    "from pdfminer.pdfparser import PDFParser\n",
    "from pdfminer.pdfdocument import PDFDocument\n",
    "from pdfminer.pdfpage import PDFPage\n",
    "from pdfminer.pdfinterp import PDFResourceManager, PDFPageInterpreter\n",
    "from pdfminer.layout import LAParams\n",
    "\n",
    "# TODO: deal with words cut in half \"pro- pagation of...\"\n",
    "def convert(input_file):\n",
    "    fp = open(input_file, 'rb')\n",
    "    parser = PDFParser(fp)\n",
    "    doc = PDFDocument(parser)\n",
    "    # doc.initialize(\"passwrd\") # leave empty for no password\n",
    "\n",
    "    rsrcmgr = PDFResourceManager()\n",
    "    laparams = LAParams()\n",
    "    device = PDFPageDetailedAggregator(rsrcmgr, laparams=laparams)\n",
    "    interpreter = PDFPageInterpreter(rsrcmgr, device)\n",
    "\n",
    "    for page in PDFPage.create_pages(doc):\n",
    "        interpreter.process_page(page)\n",
    "        # receive the LTPage object for this page\n",
    "        device.get_result()\n",
    "\n",
    "    # GROUPING\n",
    "    grouped_text = OrderedDict() # order is of identification in the document.\n",
    "    for p in range(1000): # max page nb is 1000\n",
    "        grouped_text[p] = {}\n",
    "    for (page_nb, x_min, y_min, x_max, y_max, text) in device.rows:\n",
    "        x_min = round(x_min)//10 # manipulate the level of aggregation --> x_min might be slighly different\n",
    "        try:\n",
    "            grouped_text[page_nb][x_min]+= \" \" + text\n",
    "        except:\n",
    "            grouped_text[page_nb][x_min] = text\n",
    "    \n",
    "    \n",
    "    # FULL TEXT BY PAGE\n",
    "    text_by_page = OrderedDict()\n",
    "    for key, values in grouped_text.items():\n",
    "        if values:\n",
    "            text_by_page[key] = \"\"\n",
    "            for _, text in values.items():\n",
    "                text_by_page[key] += text + \" \"\n",
    "    # FULL TEXT\n",
    "    pdf_full_txt = \"\"\n",
    "    for key, text in text_by_page.items():\n",
    "        pdf_full_txt += text + \" \"\n",
    "        \n",
    "    return (pdf_full_txt, text_by_page)        "
   ]
  },
  {
   "cell_type": "code",
   "execution_count": 75,
   "metadata": {},
   "outputs": [],
   "source": [
    "# start with one pdf\n",
    "input_path = \"../../data/input/DPEFs/Construction/\"\n",
    "output_path = \"../../data/processed/DPEFs/\"\n",
    "all_input_files = getListOfFiles(input_path)\n",
    "all_input_files = [p for p in all_input_files if p.name.lower().endswith(\".pdf\")]\n",
    "# input_filename = \"Construction/vinci-rapport-annuel-2018.pdf\"\n",
    "# output_filename = input_filename.replace(\".pdf\",\".txt\")\n",
    "# input_filename = Path(input_path+input_filename)\n",
    "# output_filename = Path(output_path+output_filename)"
   ]
  },
  {
   "cell_type": "code",
   "execution_count": 76,
   "metadata": {},
   "outputs": [
    {
     "name": "stdout",
     "output_type": "stream",
     "text": [
      "Processing 0/4 - file: all.pdf\n",
      "Processing 1/4 - file: ddr2018_vf.pdf\n",
      "Processing 2/4 - file: document-de-reference-2018_v2.pdf\n",
      "Processing 3/4 - file: vinci-rapport-annuel-2018.pdf\n"
     ]
    }
   ],
   "source": [
    "# TODO: deal with MICHELIN hanging function...\n",
    "# accrding to answer in https://stackoverflow.com/questions/53219016/detecting-sections-of-a-pdf-with-pdfminer\n",
    "# it is not possibmle to parse content in a randomly structured pdf.\n",
    "for i, input_file in enumerate(all_input_files):\n",
    "    if input_file.name.endswith(\"pdf\"):\n",
    "        print(\"Processing {}/{} - file: {}\".format(i,len(all_input_files),input_file.name))\n",
    "        pdf_full_txt, text_by_page = convert(input_file)\n",
    "        # create the output folder if needed\n",
    "        output_file = Path(str(input_file).replace(\".pdf\",\".txt\").replace(\"input\",\"processed\"))\n",
    "        output_file.parents[0].mkdir(parents=True, exist_ok=True)\n",
    "        fileConverted = open(output_file, \"w\", encoding=\"utf-8\")\n",
    "        fileConverted.write(pdf_full_txt)\n",
    "        fileConverted.close()\n",
    "#         if i == 0:\n",
    "#             break # remove to do all of them"
   ]
  },
  {
   "cell_type": "code",
   "execution_count": 95,
   "metadata": {},
   "outputs": [
    {
     "data": {
      "text/plain": [
       "['Advance, questionnaire d’autoévaluation développement durable, qui permet aux managers de passer en revue les thématiques sociales, environnementales et sociétales du Groupe et de prendre des décisions stratégiques sur leurs orientations, a été développé par VINCI, conformément aux principes du Global Compact, des conventions fondamentales de l’Organisation internationale du travail (OIT) et de la norme ISO 26000.']"
      ]
     },
     "execution_count": 95,
     "metadata": {},
     "output_type": "execute_result"
    }
   ],
   "source": [
    "# from summa.summarizer import summarize\n",
    "summarize(text_by_page[206], words=60, split=True, language=\"french\")"
   ]
  },
  {
   "cell_type": "code",
   "execution_count": 85,
   "metadata": {},
   "outputs": [
    {
     "data": {
      "text/plain": [
       "1547176"
      ]
     },
     "execution_count": 85,
     "metadata": {},
     "output_type": "execute_result"
    }
   ],
   "source": [
    "len(pdf_full_txt)"
   ]
  }
 ],
 "metadata": {
  "kernelspec": {
   "display_name": "Python 3",
   "language": "python",
   "name": "python3"
  },
  "language_info": {
   "codemirror_mode": {
    "name": "ipython",
    "version": 3
   },
   "file_extension": ".py",
   "mimetype": "text/x-python",
   "name": "python",
   "nbconvert_exporter": "python",
   "pygments_lexer": "ipython3",
   "version": "3.7.3"
  }
 },
 "nbformat": 4,
 "nbformat_minor": 2
}
