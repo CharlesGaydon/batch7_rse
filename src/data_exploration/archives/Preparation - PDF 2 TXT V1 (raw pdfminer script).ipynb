{
 "cells": [
  {
   "cell_type": "markdown",
   "metadata": {},
   "source": [
    "Action performed:\n",
    "- PDFminer for pdf to txt conversion, for all input pdfs\n",
    "- From txt, description using nltk\n",
    "- summarization using nltk"
   ]
  },
  {
   "cell_type": "code",
   "execution_count": 1,
   "metadata": {},
   "outputs": [],
   "source": [
    "# general imports\n",
    "from pathlib import Path\n",
    "import os\n",
    "\n",
    "# processing imports\n",
    "import pandas as pd"
   ]
  },
  {
   "cell_type": "code",
   "execution_count": 2,
   "metadata": {},
   "outputs": [],
   "source": [
    "# utils elements to move to utils after development\n",
    "\n",
    "from pdfminer.pdfinterp import PDFResourceManager, PDFPageInterpreter\n",
    "from pdfminer.converter import HTMLConverter,TextConverter,XMLConverter\n",
    "from pdfminer.layout import LAParams\n",
    "from pdfminer.pdfpage import PDFPage\n",
    "import io\n",
    "\n",
    "def convert(fname, pages=None):\n",
    "    if not pages: pagenums = set();\n",
    "    else:         pagenums = set(pages);      \n",
    "    manager = PDFResourceManager() \n",
    "    codec = 'utf-8'\n",
    "    caching = True\n",
    "\n",
    "    output = io.StringIO()\n",
    "    converter = TextConverter(manager, output, codec=codec, laparams=LAParams())     \n",
    "\n",
    "    interpreter = PDFPageInterpreter(manager, converter)   \n",
    "    infile = open(fname, 'rb')\n",
    "\n",
    "    for page in PDFPage.get_pages(infile, pagenums,caching=caching, check_extractable=True):\n",
    "        interpreter.process_page(page)\n",
    "\n",
    "    convertedPDF = output.getvalue()  \n",
    "\n",
    "    infile.close(); converter.close(); output.close()\n",
    "    return convertedPDF\n",
    "\n",
    "def getListOfFiles(dirName):\n",
    "    '''\n",
    "        For the given path, get the List of all files in the directory tree \n",
    "    '''\n",
    "    paths = []\n",
    "    for path, subdirs, files in os.walk(dirName):\n",
    "        for name in files:\n",
    "            paths.append((Path(path+name)))            \n",
    "    return paths"
   ]
  },
  {
   "cell_type": "code",
   "execution_count": 3,
   "metadata": {},
   "outputs": [],
   "source": [
    "# start with one pdf\n",
    "input_path = \"../../data/input/DPEFs/\"\n",
    "output_path = \"../../data/processed/DPEFs/\"\n",
    "all_input_files = getListOfFiles(input_path)\n",
    "all_input_files = [p for p in all_input_files if p.name.lower().endswith(\".pdf\")]\n",
    "# input_filename = \"Construction/vinci-rapport-annuel-2018.pdf\"\n",
    "# output_filename = input_filename.replace(\".pdf\",\".txt\")\n",
    "# input_filename = Path(input_path+input_filename)\n",
    "# output_filename = Path(output_path+output_filename)"
   ]
  },
  {
   "cell_type": "code",
   "execution_count": 29,
   "metadata": {},
   "outputs": [
    {
     "name": "stdout",
     "output_type": "stream",
     "text": [
      "Processing 0/15 - file: LVMH - rapport-rse-2018.pdf\n"
     ]
    }
   ],
   "source": [
    "# TODO: replace \"\\n\\n\" by \" \"\n",
    "# TODO: parse pages paragraphs by paragraphs and not line by line\n",
    "# accrding to answer in https://stackoverflow.com/questions/53219016/detecting-sections-of-a-pdf-with-pdfminer\n",
    "# it is not possibmle to parse content in a randomly structured pdf.\n",
    "for i, input_file in enumerate(all_input_files):\n",
    "    if input_file.name.endswith(\"pdf\"):\n",
    "        print(\"Processing {}/{} - file: {}\".format(i,len(all_input_files),input_file.name))\n",
    "        pdf_full_txt = convert(input_file)\n",
    "        # create the output folder if needed\n",
    "        output_file = Path(str(input_file).replace(\".pdf\",\".txt\").replace(\"input\",\"processed\"))\n",
    "        output_file.parents[0].mkdir(parents=True, exist_ok=True)\n",
    "        fileConverted = open(output_file, \"w\", encoding=\"utf-8\")\n",
    "        fileConverted.write(pdf_full_txt)\n",
    "        fileConverted.close()\n",
    "        if i == 0:\n",
    "            break # remove to do all of them"
   ]
  },
  {
   "cell_type": "code",
   "execution_count": 25,
   "metadata": {},
   "outputs": [
    {
     "name": "stdout",
     "output_type": "stream",
     "text": [
      "plus noble et de plus abouti, une attention |lutte contre la corruption.|minutieuse est portée aux détails et à la perfection : du produit |LVMH soutient également la Déclaration universelle des droits de |au service, c’est dans cette quête d’excellence que le Groupe |l’homme, les Principes directeurs de l’Organisation de coopéra-|cultive sa différence.|tion et de développement économiques (OCDE), les conventions |fondamentales de l’Organisation internationale du travail, les |Cultiver l’esprit d’entreprise\n",
      "Agile, l’organisation décentralisée du Groupe favorise l’efficacité |principes d’autonomisation des femmes des Nations unies ainsi |que la Charte de la diversité. La stratégie de responsabilité sociale |et la réactivité. Elle stimule les initiatives individuelles en confiant |du Groupe contribue également à l’atteinte des 17 objectifs de |des responsabilités importantes à chacun. L’esprit d’entreprise |développement durable (ODD) des Nations unies.|promu par le Groupe facilite la prise de risque et encourage la |persévérance ; il nécessite un esprit pragmatique et une capacité |à mobiliser des équipes en les entraînant vers des objectifs |ambitieux.|Code  |de Conduite|LVMH|Code  |de Conduite\n",
      "Fournisseurs|Code  |de Conduite\n",
      "Recrutement|2003|2005|2006|2007|2008|2009|Pacte mondial |des Nations |unies|Charte de  |l’apprentissage|Objectifs du millénaire|Charte de la diversité|Charte  |de l’insertion  |professionnelle  \n",
      "des personnes \n",
      "handicapées|Charte d’engagement des entreprises  |au service de l’égalité des chances dans l’éducation|Codes et chartes internes de LVMH.|Engagements publics signés par LVMH.|NB : pour les engagements relatifs à l’environnement, se reporter au Rapport environnement 2018 de LVMH.|8|LVMH  .  Rapport de responsabilité sociale 2018LVMH  .  Rapport de responsabilité sociale 2018\f",
      "L E   C O D E   \n",
      "D E   C O N D U I T E   LV M H|Le Code de Conduite LVMH, adopté en 2009 et révisé en 2017, |constit\n"
     ]
    }
   ],
   "source": [
    "print(pdf_full_txt[10000:12000].replace(\"\\n\\n\",\"|\"))"
   ]
  },
  {
   "cell_type": "code",
   "execution_count": 12,
   "metadata": {},
   "outputs": [
    {
     "data": {
      "text/plain": [
       "['et de la lutte contre les discriminations, ',\n",
       " 'LVMH et ont, au fil du temps, assuré le succès des Maisons et ',\n",
       " 'Le Code de Conduite LVMH, adopté en 2009 et révisé en 2017, ',\n",
       " 'évolutions de la société, analyse les risques et les enjeux liés à ',\n",
       " 'DANS LA CULTURE DU GROUPE LVMH, À TOUTES LES ÉTAPES DU PARCOURS DES COLLABORATEURS.',\n",
       " 'environnement de travail épanouissant pour les femmes et à ',\n",
       " 'LA GESTION ET LE DÉVELOPPEMENT DE SES COLLABORATEURS SENIORS.',\n",
       " 'carrière a été proposé à tous les seniors âgés de 55 ans et plus, ',\n",
       " 'maintenir les seniors en emploi et d’assurer la transmission des ',\n",
       " 'LA MISSION HANDICAP, LES ENGAGEMENTS DU GROUPE ET DE SES MAISONS  ',\n",
       " 'À l’initiative de LVMH et du pôle événement des Echos, le Salon ',\n",
       " 'matériel d’écriture et le distribuer à des élèves en situation de ',\n",
       " 'DES SAVOIR-FAIRE ET DANS LE SOUTIEN À LA CRÉATION, AVEC L’OBJECTIF  ',\n",
       " '–  La FacStory et le Creative Lab de la Maison Guerlain, qui  ',\n",
       " 'la Maison a également formé son Comité de direction et les ',\n",
       " 'entreprises de son écosystème, et à les accompagner dans la ',\n",
       " 'pour échanger sur les enjeux et plans d’action en matière de ',\n",
       " 'en matière de responsabilité sociale dans le Rapport annuel et ',\n",
       " 'et le respect de la singularité']"
      ]
     },
     "execution_count": 12,
     "metadata": {},
     "output_type": "execute_result"
    }
   ],
   "source": [
    "from summa.summarizer import summarize\n",
    "summarize(pdf_full_txt, words=200, split=True, language=\"french\")"
   ]
  },
  {
   "cell_type": "code",
   "execution_count": null,
   "metadata": {},
   "outputs": [],
   "source": [
    "keywords(pdf_full_txt,words=50, split=\"\\n\", scores=False, pos_filter=('NN', 'JJ'), lemmatize=True, deacc=True)\n",
    "# .split('\\n')"
   ]
  },
  {
   "cell_type": "code",
   "execution_count": null,
   "metadata": {},
   "outputs": [],
   "source": []
  },
  {
   "cell_type": "code",
   "execution_count": null,
   "metadata": {},
   "outputs": [],
   "source": []
  }
 ],
 "metadata": {
  "kernelspec": {
   "display_name": "Python 3",
   "language": "python",
   "name": "python3"
  },
  "language_info": {
   "codemirror_mode": {
    "name": "ipython",
    "version": 3
   },
   "file_extension": ".py",
   "mimetype": "text/x-python",
   "name": "python",
   "nbconvert_exporter": "python",
   "pygments_lexer": "ipython3",
   "version": "3.7.3"
  }
 },
 "nbformat": 4,
 "nbformat_minor": 2
}
