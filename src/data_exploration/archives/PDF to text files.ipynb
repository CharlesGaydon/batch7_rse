{
 "cells": [
  {
   "cell_type": "code",
   "execution_count": 56,
   "metadata": {},
   "outputs": [
    {
     "name": "stdout",
     "output_type": "stream",
     "text": [
      "/Users/hugomuselli/Downloads/DPEFs\n"
     ]
    }
   ],
   "source": [
    "cd ~/Downloads/DPEFs"
   ]
  },
  {
   "cell_type": "code",
   "execution_count": 63,
   "metadata": {},
   "outputs": [],
   "source": [
    "import PyPDF2 \n",
    "import os\n",
    "import json\n",
    "from time import time"
   ]
  },
  {
   "cell_type": "code",
   "execution_count": 58,
   "metadata": {},
   "outputs": [],
   "source": [
    "list_of_ls = os.popen(\"ls -R | grep pdf\").read().split('\\n')\n",
    "list_of_ls.remove('')"
   ]
  },
  {
   "cell_type": "code",
   "execution_count": 59,
   "metadata": {},
   "outputs": [
    {
     "data": {
      "text/plain": [
       "<generator object walk at 0x125735a50>"
      ]
     },
     "execution_count": 59,
     "metadata": {},
     "output_type": "execute_result"
    }
   ],
   "source": [
    "os.walk('.')"
   ]
  },
  {
   "cell_type": "code",
   "execution_count": 67,
   "metadata": {},
   "outputs": [],
   "source": [
    "listOfFiles = list()\n",
    "for (dirpath, dirnames, filenames) in os.walk('.'):\n",
    "    listOfFiles += [os.path.join(dirpath, file) for file in filenames]\n",
    "listOfFiles = [file for file in listOfFiles if file.endswith('.pdf')]"
   ]
  },
  {
   "cell_type": "code",
   "execution_count": 68,
   "metadata": {},
   "outputs": [
    {
     "data": {
      "text/plain": [
       "['./LVMH - rapport-rse-2018.pdf',\n",
       " './MICHELIN - 20190321_MICHELIN_DDR_2018_FR-1.pdf',\n",
       " './Energéticien/ddr2018-fr(2).pdf',\n",
       " './Energéticien/orano_rapport-annuel-activite_2018_mel.pdf',\n",
       " './Energéticien/Document de Référence 2014.pdf',\n",
       " './Energéticien/engie-ddr-2018-vdef-fr_compressed.pdf',\n",
       " './Energéticien/edf-ddr-2018-fr(1).pdf',\n",
       " './Grande distribution/carrefour_-_document_de_reference_2018_-_vdef_corrigee.pdf',\n",
       " './Grande distribution/SCA Ouest - Rapport DPEF  SITE.pdf',\n",
       " './Grande distribution/1553852721_5c9de931cf2f7(1).pdf',\n",
       " './Grande distribution/Groupe-Casino-DDR-RSE.pdf',\n",
       " './Construction/vinci-rapport-annuel-2018.pdf',\n",
       " './Construction/document-de-reference-2018_v2.pdf',\n",
       " './Construction/all.pdf',\n",
       " './Construction/ddr2018_vf.pdf']"
      ]
     },
     "execution_count": 68,
     "metadata": {},
     "output_type": "execute_result"
    }
   ],
   "source": [
    "listOfFiles"
   ]
  },
  {
   "cell_type": "code",
   "execution_count": 84,
   "metadata": {},
   "outputs": [
    {
     "name": "stdout",
     "output_type": "stream",
     "text": [
      "temps total : 382.59756112098694\n"
     ]
    }
   ],
   "source": [
    "t0=time()\n",
    "\n",
    "data={}\n",
    "for filename in listOfFiles:\n",
    "    pdfFileObj = open(filename,'rb')\n",
    "    pdfReader = PyPDF2.PdfFileReader(pdfFileObj)\n",
    "    num_pages = pdfReader.numPages\n",
    "    count = 0\n",
    "    text = \"\"\n",
    "    data[filename] = []\n",
    "    while count < num_pages:\n",
    "        pageObj = pdfReader.getPage(count)\n",
    "        c=str(count)\n",
    "        cont = pageObj.extractText()\n",
    "        data[filename].append([c,cont])\n",
    "        count +=1\n",
    "\n",
    "with open(\"data.txt\",\"w\") as json_output:\n",
    "    json.dump(data, json_output)       \n",
    "    \n",
    "    \n",
    "t1=time()\n",
    "print(\"temps total : {}\".format(t1-t0))"
   ]
  },
  {
   "cell_type": "code",
   "execution_count": 85,
   "metadata": {},
   "outputs": [],
   "source": [
    "with open('data.txt') as json_file:\n",
    "    data = json.load(json_file)"
   ]
  }
 ],
 "metadata": {
  "kernelspec": {
   "display_name": "Python 3",
   "language": "python",
   "name": "python3"
  },
  "language_info": {
   "codemirror_mode": {
    "name": "ipython",
    "version": 3
   },
   "file_extension": ".py",
   "mimetype": "text/x-python",
   "name": "python",
   "nbconvert_exporter": "python",
   "pygments_lexer": "ipython3",
   "version": "3.7.3"
  }
 },
 "nbformat": 4,
 "nbformat_minor": 2
}
