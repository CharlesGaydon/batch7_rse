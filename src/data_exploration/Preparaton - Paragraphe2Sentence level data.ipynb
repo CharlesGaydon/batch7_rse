{
 "cells": [
  {
   "cell_type": "markdown",
   "metadata": {},
   "source": [
    "Here is the base code for takings paragraphes of dpef and splitting them into sentences, then keep only long sentences.\n",
    "\n",
    "MIN_NB_OF_TOKENS=8 seems to do the trick. \n",
    "\n",
    "Improvements:\n",
    "- Remove last filter and look at what has <8 words. Mostly fragments, mainly titles, etc. but may shows errors in parsing.\n",
    "- Questios were kept here, maybe to exclude if appear in top sentences\n",
    "- main mistakes are of shape \"['13 21 14 7 25 24 17 15 4 22 23']\" --> add criteria to require actual words ?"
   ]
  },
  {
   "cell_type": "code",
   "execution_count": 115,
   "metadata": {
    "ExecuteTime": {
     "end_time": "2020-04-06T16:21:17.828584Z",
     "start_time": "2020-04-06T16:21:17.823538Z"
    }
   },
   "outputs": [],
   "source": [
    "import pandas as pd\n",
    "# text\n",
    "from spacy.lang.fr import French\n",
    "from spacy.cli.download import download\n",
    "import spacy\n",
    "# download('fr_core_news_sm')"
   ]
  },
  {
   "cell_type": "code",
   "execution_count": 117,
   "metadata": {
    "ExecuteTime": {
     "end_time": "2020-04-06T16:21:36.906055Z",
     "start_time": "2020-04-06T16:21:36.823091Z"
    }
   },
   "outputs": [],
   "source": [
    "input_filename = \"../../data/processed/DPEFs/dpef_paragraphs.csv\"\n",
    "output_filename = \"../../data/processed/DPEFs/dpef_paragraphs_sentences.csv\"\n",
    "output_filename2 = \"../../data/processed/DPEFs/dpef_paragraphs_sentences_long_format.csv\"\n",
    "df = pd.read_csv(input_filename, sep=\";\")\n",
    "df = df[df.paragraph.notna()] # nan created while saving/ removing header -> to correct"
   ]
  },
  {
   "cell_type": "code",
   "execution_count": 118,
   "metadata": {
    "ExecuteTime": {
     "end_time": "2020-04-06T16:21:45.870437Z",
     "start_time": "2020-04-06T16:21:40.310157Z"
    }
   },
   "outputs": [
    {
     "name": "stdout",
     "output_type": "stream",
     "text": [
      "(13939, 11)\n",
      "(5981, 11)\n"
     ]
    }
   ],
   "source": [
    "# params\n",
    "MIN_NB_OF_TOKENS = 8\n",
    "\n",
    "# custom parser to split sentences while ignoring title section like cf.\n",
    "nlp = French()\n",
    "\n",
    "def prevent_sentence_boundaries(doc):\n",
    "    for i, token in enumerate(doc[2:]):\n",
    "        if exception_to_split(token):\n",
    "            token.is_sent_start = False\n",
    "    return doc\n",
    "\n",
    "def exception_to_split(token):\n",
    "    if 'cf' in token.nbor(-2).text and token.nbor(-1).text == \".\":\n",
    "        return True\n",
    "    return False\n",
    "nlp.add_pipe(prevent_sentence_boundaries) # add exception\n",
    "nlp.add_pipe(nlp.create_pipe('sentencizer')) # to keep default sentencizer aso\n",
    "# split, keep only the text and forget the nlp tagging for now\n",
    "df_sent = df[\"paragraph\"].apply(lambda x: [sent.text for sent in nlp(x).sents if len(sent)>MIN_NB_OF_TOKENS])\n",
    "# save\n",
    "df[\"paragraph_sentences\"] = df_sent.values\n",
    "print(df.shape)\n",
    "df = df[df[\"paragraph_sentences\"].apply(lambda x : len(x)>0)]\n",
    "print(df.shape)\n",
    "df.to_csv(output_filename, sep=\";\")"
   ]
  },
  {
   "cell_type": "code",
   "execution_count": 135,
   "metadata": {
    "ExecuteTime": {
     "end_time": "2020-04-06T16:28:33.648266Z",
     "start_time": "2020-04-06T16:28:31.959238Z"
    }
   },
   "outputs": [],
   "source": [
    "# reshaping following https://stackoverflow.com/questions/53860398/pandas-dataframe-how-do-i-split-one-row-into-multiple-rows-by-multi-value-colum/53860543\n",
    "# convert list of pd.Series then stack it\n",
    "df2 = (df\n",
    " .set_index(df.columns[:-1].values.tolist())['paragraph_sentences'] # all except last colname as index\n",
    " .apply(pd.Series)\n",
    " .stack()\n",
    " .reset_index()\n",
    " .drop('level_{}'.format(len(df.columns)-1), axis=1)\n",
    " .rename(columns={0:'sentence'}))\n",
    "df2.to_csv(output_filename2, sep=\";\")"
   ]
  }
 ],
 "metadata": {
  "kernelspec": {
   "display_name": "Python 3",
   "language": "python",
   "name": "python3"
  },
  "language_info": {
   "codemirror_mode": {
    "name": "ipython",
    "version": 3
   },
   "file_extension": ".py",
   "mimetype": "text/x-python",
   "name": "python",
   "nbconvert_exporter": "python",
   "pygments_lexer": "ipython3",
   "version": "3.7.5"
  }
 },
 "nbformat": 4,
 "nbformat_minor": 2
}
