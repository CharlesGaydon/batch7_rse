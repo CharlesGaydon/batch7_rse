{
 "cells": [
  {
   "cell_type": "markdown",
   "metadata": {},
   "source": [
    "Here is the base code for takings paragraphes of dpef and splitting them into sentences, then keep only long sentences.\n",
    "\n",
    "MIN_NB_OF_TOKENS=8 seems to do the trick. \n",
    "\n",
    "Improvements:\n",
    "- Remove last filter and look at what has <8 words. Mostly fragments, mainly titles, etc. but may shows errors in parsing.\n",
    "- Questios were kept here, maybe to exclude if appear in top sentences"
   ]
  },
  {
   "cell_type": "code",
   "execution_count": 11,
   "metadata": {
    "ExecuteTime": {
     "end_time": "2020-04-06T15:16:47.434723Z",
     "start_time": "2020-04-06T15:16:41.487419Z"
    }
   },
   "outputs": [],
   "source": [
    "import pandas as pd\n",
    "# text\n",
    "from spacy.lang.fr import French\n",
    "from spacy.cli.download import download\n",
    "import spacy\n",
    "# download('fr_core_news_sm')"
   ]
  },
  {
   "cell_type": "code",
   "execution_count": 110,
   "metadata": {
    "ExecuteTime": {
     "end_time": "2020-04-06T16:09:38.988646Z",
     "start_time": "2020-04-06T16:09:38.913642Z"
    }
   },
   "outputs": [],
   "source": [
    "input_filename = \"../../data/processed/DPEFs/dpef_paragraphs.csv\"\n",
    "output_filename = \"../../data/processed/DPEFs/dpef_paragraphs_sentences.csv\"\n",
    "df = pd.read_csv(input_filename, sep=\";\")\n",
    "df = df[df.paragraph.notna()] # nan created while saving/ removing header -> to correct"
   ]
  },
  {
   "cell_type": "code",
   "execution_count": 114,
   "metadata": {
    "ExecuteTime": {
     "end_time": "2020-04-06T16:12:30.030081Z",
     "start_time": "2020-04-06T16:12:24.882777Z"
    }
   },
   "outputs": [
    {
     "name": "stdout",
     "output_type": "stream",
     "text": [
      "(13939, 11)\n",
      "(5981, 11)\n"
     ]
    }
   ],
   "source": [
    "# params\n",
    "MIN_NB_OF_TOKENS = 8\n",
    "\n",
    "# custom parser to split sentences while ignoring title section like cf.\n",
    "nlp = French()\n",
    "\n",
    "def prevent_sentence_boundaries(doc):\n",
    "    for i, token in enumerate(doc[2:]):\n",
    "        if exception_to_split(token):\n",
    "            token.is_sent_start = False\n",
    "    return doc\n",
    "\n",
    "def exception_to_split(token):\n",
    "    if 'cf' in token.nbor(-2).text and token.nbor(-1).text == \".\":\n",
    "        return True\n",
    "    return False\n",
    "nlp.add_pipe(prevent_sentence_boundaries) # add exception\n",
    "nlp.add_pipe(nlp.create_pipe('sentencizer')) # to keep default sentencizer aso\n",
    "# split, keep only the text and forget the nlp tagging for now\n",
    "df_sent = df[\"paragraph\"].apply(lambda x: [sent.text for sent in nlp(x).sents if len(sent)>MIN_NB_OF_TOKENS])\n",
    "# save\n",
    "df[\"paragraph_sentences\"] = df_sent.values\n",
    "print(df.shape)\n",
    "df = df[df[\"paragraph_sentences\"].apply(lambda x : len(x)>0)]\n",
    "print(df.shape)\n",
    "df.to_csv(output_filename, sep=\";\")"
   ]
  }
 ],
 "metadata": {
  "kernelspec": {
   "display_name": "Python 3",
   "language": "python",
   "name": "python3"
  },
  "language_info": {
   "codemirror_mode": {
    "name": "ipython",
    "version": 3
   },
   "file_extension": ".py",
   "mimetype": "text/x-python",
   "name": "python",
   "nbconvert_exporter": "python",
   "pygments_lexer": "ipython3",
   "version": "3.7.5"
  }
 },
 "nbformat": 4,
 "nbformat_minor": 2
}
