{
 "cells": [
  {
   "cell_type": "markdown",
   "metadata": {},
   "source": [
    "Here is the base code for takings paragraphes of dpef and splitting them into sentences, then keep only long sentences.\n",
    "\n",
    "MIN_NB_OF_TOKENS=8 seems to do the trick. \n",
    "\n",
    "Improvements:\n",
    "- Remove last filter and look at what has <8 words. Mostly fragments, mainly titles, etc. but may shows errors in parsing.\n",
    "- Questions were kept here, maybe to exclude if appear in top sentences. but seem not frequent.\n",
    "- main mistakes are of shape \"['13 21 14 7 25 24 17 15 4 22 23']\" --> add criteria to require actual words ?"
   ]
  },
  {
   "cell_type": "code",
   "execution_count": 53,
   "metadata": {
    "ExecuteTime": {
     "end_time": "2020-04-28T15:30:42.679214Z",
     "start_time": "2020-04-28T15:30:42.674625Z"
    }
   },
   "outputs": [],
   "source": [
    "import pandas as pd; pd.set_option('display.max_colwidth', -1)\n",
    "# text\n",
    "from spacy.lang.fr import French\n",
    "from spacy.cli.download import download\n",
    "from spacy.tokens import Doc, Span\n",
    "\n",
    "# download('fr_core_news_sm')"
   ]
  },
  {
   "cell_type": "code",
   "execution_count": 54,
   "metadata": {
    "ExecuteTime": {
     "end_time": "2020-04-28T15:30:42.903260Z",
     "start_time": "2020-04-28T15:30:42.866152Z"
    }
   },
   "outputs": [],
   "source": [
    "input_filename = \"../../data/processed/DPEFs/dpef_paragraphs_debug.csv\"\n",
    "output_filename = \"../../data/processed/DPEFs/dpef_paragraphs_sentences_debug.csv\"\n",
    "output_filename2 = \"../../data/processed/DPEFs/dpef_paragraphs_sentences_long_format_debug.csv\"\n",
    "df = pd.read_csv(input_filename, sep=\";\")\n",
    "df = df[df.paragraph.notna()] # nan created while saving/ removing header -> to correct\n",
    "df = df.loc[5000:10000]"
   ]
  },
  {
   "cell_type": "code",
   "execution_count": 58,
   "metadata": {
    "ExecuteTime": {
     "end_time": "2020-04-28T15:32:54.029430Z",
     "start_time": "2020-04-28T15:32:54.027039Z"
    }
   },
   "outputs": [],
   "source": [
    "# df.head()"
   ]
  },
  {
   "cell_type": "code",
   "execution_count": 65,
   "metadata": {
    "ExecuteTime": {
     "end_time": "2020-04-28T15:40:33.332217Z",
     "start_time": "2020-04-28T15:40:16.447559Z"
    }
   },
   "outputs": [
    {
     "name": "stdout",
     "output_type": "stream",
     "text": [
      "(1064, 8)\n",
      "(1021, 8)\n"
     ]
    }
   ],
   "source": [
    "# params\n",
    "MIN_NB_OF_TOKENS = 3\n",
    "def get_nb_words(doc):\n",
    "    \"\"\" Count numer of tokens in spacy Doc, ignoring NUM and ADP (e.g. for, at...) and not counting % as noun. \"\"\"\n",
    "    return len([token for token in doc if (token.pos_ in [\"NOUN\",\"PROPN\",\"VERB\"]) and (token.text!=\"%\")])\n",
    "\n",
    "Span.set_extension(\"nb_words\", setter=get_nb_words, getter=get_nb_words, force=True)\n",
    "# custom parser to split sentences while ignoring title section like cf. and splitting on \"etc.\"\n",
    "nlp =  spacy.load('fr_core_news_sm')\n",
    "\n",
    "def exception_to_split(token):\n",
    "    if 'cf' in token.nbor(-2).text and token.nbor(-1).text == \".\":\n",
    "        return True\n",
    "    return False\n",
    "\n",
    "def custom_sentence_boundaries(doc):\n",
    "    for i, token in enumerate(doc[2:]):\n",
    "        if exception_to_split(token):\n",
    "            token.is_sent_start = False\n",
    "#         if exception_to_not_split(token):\n",
    "#             token.is_sent_start = True\n",
    "    return doc\n",
    "\n",
    "# def exception_to_not_split(token):\n",
    "#     if 'etc' in token.nbor(-2).text and token.nbor(-1).text == \".\":\n",
    "#         return True\n",
    "#     return False\n",
    "\n",
    "nlp.add_pipe(nlp.create_pipe('sentencizer')) # to add default sentencizer\n",
    "nlp.add_pipe(custom_sentence_boundaries) # add exception to sententizer\n",
    "\n",
    "df_sent = df[\"paragraph\"].apply(lambda x: [sent.text for sent in nlp(x).sents if sent._.nb_words>MIN_NB_OF_TOKENS])\n",
    "# save\n",
    "df[\"paragraph_sentences\"] = df_sent.values\n",
    "print(df.shape)\n",
    "df = df[df[\"paragraph_sentences\"].apply(lambda x : len(x)>0)]\n",
    "print(df.shape)\n",
    "# df.to_csv(output_filename, sep=\";\") # TODO: remove"
   ]
  },
  {
   "cell_type": "code",
   "execution_count": 63,
   "metadata": {
    "ExecuteTime": {
     "end_time": "2020-04-28T15:35:36.673878Z",
     "start_time": "2020-04-28T15:35:36.463698Z"
    }
   },
   "outputs": [],
   "source": [
    "# reshaping following https://stackoverflow.com/questions/53860398/pandas-dataframe-how-do-i-split-one-row-into-multiple-rows-by-multi-value-colum/53860543\n",
    "# convert list of pd.Series then stack it\n",
    "df2 = (df\n",
    " .set_index(df.columns[:-1].values.tolist())['paragraph_sentences'] # all except last colname as index\n",
    " .apply(pd.Series)\n",
    " .stack()\n",
    " .reset_index()\n",
    " .drop('level_{}'.format(len(df.columns)-1), axis=1)\n",
    " .rename(columns={0:'sentence'}))\n",
    "df2.to_csv(output_filename2, sep=\";\")"
   ]
  },
  {
   "cell_type": "code",
   "execution_count": 16,
   "metadata": {
    "ExecuteTime": {
     "end_time": "2020-04-28T15:06:04.015256Z",
     "start_time": "2020-04-28T15:06:04.008307Z"
    }
   },
   "outputs": [
    {
     "data": {
      "text/plain": [
       "5000    ● l’animation d’un Réseau de Correspondants Conformité par Business Units (BU), pays et directions centrales (DC), et une communication régulière avec les opérationnels ;                                                                                                                                                                                                                                                                                                                                                                                                                                                                                                                                                                                                                                                                                                                                                                               \n",
       "5001    ● le développement de la culture éthique et conformité des salariés, par des actions de sensibilisation et de formation ;                                                                                                                                                                                                                                                                                                                                                                                                                                                                                                                                                                                                                                                                                                                                                                                                                                \n",
       "5002    ● le renforcement du dispositif d’alerte éthique interne.                                                                                                                                                                                                                                                                                                                                                                                                                                                                                                                                                                                                                                                                                                                                                                                                                                                                                                \n",
       "5003    Le Comité Conformité, présidé par la direction de la Conformité, est chargé d’émettre des avis et recommandations sur l’évaluation des tiers (dans le cadre de la loi Sapin II) ainsi que de superviser la mise en œuvre du dispositif de conformité. Il est composé de membres permanents issus des directions centrales. En fonction des sujets, les correspondants conformité et les opérationnels concernés sont conviés aux réunions du Comité Conformité.                                                                                                                                                                                                                                                                                                                                                                                                                                                                                          \n",
       "5004    Les c orrespondants c onformité, nommés par leur direction, relaient et déploient dans les entités, les politiques et règles internes d’éthique et de conformité, l’information et les formations adaptées aux populations exposées dans leur organisation et participent à l’élaboration des dispositifs de maîtrise des risques identiﬁés ainsi qu’à la mise en œuvre opérationnelle des plans d’action .                                                                                                                                                                                                                                                                                                                                                                                                                                                                                                                                              \n",
       "                                                                                                                                                                                                           ...                                                                                                                                                                                                                                                                                                                                                                                                                                                                                                                                                                                                                                                                                                                                                   \n",
       "6511    – Effectifs – Recrutements en CDI – Sorties par catégories – Taux d’absentéisme pour raisons médicales – Turnover (%, total des sorties sur total des effectifs) – Part des entités du Groupe qui intègrent des critères HSE dans la rémunération variable – Nombre moyen de jours/an de formation en présentiel par salarié – Part de femmes dans les Comités de direction – Part des femmes dans le recrutement en CDI, dans le recrutement cadres, dans les effectifs, dans les effectifs cadres – Part des employés d’une nationalité autre que française dans le recrutement en CDI, dans le recrutement cadres, dans les effectifs, dans les effectifs cadres – Part des sociétés ayant mis en place un dispositif de télétravail – Part des salariés en situation de télétravail parmi ceux en ayant la possibilité – Part des sociétés disposant d’une représentation des salariés – Part des effectifs couverts par une convention collective   \n",
       "6512    – TRIR (nombre d’accidents déclarés par million d’heures travaillées) – LRIR (nombre d’accidents avec arrêt par million d’heures travaillées) – SIR (nombre moyen de jours d’arrêt par accident avec arrêt) – Nombres d’accidents graves de la route – Nombre de maladies professionnelles déclarées dans l’année – Part des salariés exposés à un risque professionnel bénéficiant d’un suivi médical régulier                                                                                                                                                                                                                                                                                                                                                                                                                                                                                                                                          \n",
       "6514    – Nombre de sites opérés importants pour l’environnement certifiés au standard ISO14001 – Nombre de pertes de confinement Tier 1 et Tier 2 – Nombre et volume des déversements accidentels d’hydrocarbures ayant atteint l’environnement et dont le volume unitaire est supérieur à un baril – Nombre de sites dont l’analyse de risques a identifié au moins un scénario de pollution accidentelle importante d’une eau de surface – Proportion de ces sites disposant d’un plan antipollution opérationnel – Proportion de ces sites qui ont mis en œuvre au moins un exercice de lutte antipollution dans l’année                                                                                                                                                                                                                                                                                                                                     \n",
       "6515    – Émissions de SO2 – Émissions de NOX – Teneur en hydrocarbures des rejets aqueux offshore.\\n et part des sites conformes à l’objectif Groupe – Teneur en hydrocarbures des rejets aqueux onshore et part des sites conformes à l’objectif Groupe – Prélèvements d’eau douce hors eaux de refroidissement en boucle ouverte – Tonnages de déchets traités – Part des déchets éliminés par filière de traitement (recyclage et/ou valorisation, enfouissement, autres) – Émissions directes opérées de GES – Émissions directes en part patrimoniale de GES – Émissions indirectes liées à la consommation d’énergie des sites – Autres émissions indirectes (utilisation par les clients des produits vendus pour usage final) – Consommation nette d’énergie primaire – Volumes globaux de gaz brûlés – Brûlage de routine – Indicateur Groupe d’efficacité énergétique – Intensité carbone des produits énergétiques utilisés par les clients du Groupe\n",
       "6518    – L’impact local (emploi, développement, riverains, dialogue…) – Sous-traitance : la sous- traitance et les fournisseurs (enjeux environnementaux et sociaux) – Droits de l’homme : les actions en faveur des droits de l’homme, en particulier le respect des conventions fondamentales de l’OIT – Corruption : les dispositifs mis en œuvre pour prévenir la corruption                                                                                                                                                                                                                                                                                                                                                                                                                                                                                                                                                                                \n",
       "Name: paragraph, Length: 1119, dtype: object"
      ]
     },
     "execution_count": 16,
     "metadata": {},
     "output_type": "execute_result"
    }
   ],
   "source": [
    "df.paragraph"
   ]
  },
  {
   "cell_type": "code",
   "execution_count": null,
   "metadata": {},
   "outputs": [],
   "source": []
  },
  {
   "cell_type": "code",
   "execution_count": null,
   "metadata": {},
   "outputs": [],
   "source": []
  }
 ],
 "metadata": {
  "kernelspec": {
   "display_name": "Python 3",
   "language": "python",
   "name": "python3"
  },
  "language_info": {
   "codemirror_mode": {
    "name": "ipython",
    "version": 3
   },
   "file_extension": ".py",
   "mimetype": "text/x-python",
   "name": "python",
   "nbconvert_exporter": "python",
   "pygments_lexer": "ipython3",
   "version": "3.7.5"
  }
 },
 "nbformat": 4,
 "nbformat_minor": 2
}
