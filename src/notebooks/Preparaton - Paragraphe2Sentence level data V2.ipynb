{
 "cells": [
  {
   "cell_type": "markdown",
   "metadata": {},
   "source": [
    "Here is the base code for takings paragraphes of dpef and splitting them into sentences, then keep only long sentences.\n",
    "\n",
    "MIN_NB_OF_TOKENS=8 seems to do the trick. \n",
    "\n",
    "Improvements:\n",
    "- exception to not split on \"etc.\" does not work !\n",
    "- Remove last filter and look at what has <8 words. Mostly fragments, mainly titles, etc. but may shows errors in parsing.\n",
    "- Questions were kept here, maybe to exclude if appear in top sentences. but seem not frequent.\n",
    "- main mistakes are of shape \"['13 21 14 7 25 24 17 15 4 22 23']\" --> add criteria to require actual words ?"
   ]
  },
  {
   "cell_type": "code",
   "execution_count": 7,
   "metadata": {
    "ExecuteTime": {
     "end_time": "2020-04-15T14:18:05.626683Z",
     "start_time": "2020-04-15T14:18:05.621695Z"
    }
   },
   "outputs": [],
   "source": [
    "import pandas as pd; pd.set_option('display.max_colwidth', -1)\n",
    "# text\n",
    "from spacy.lang.fr import French\n",
    "from spacy.cli.download import download\n",
    "import spacy\n",
    "# download('fr_core_news_sm')"
   ]
  },
  {
   "cell_type": "code",
   "execution_count": 8,
   "metadata": {
    "ExecuteTime": {
     "end_time": "2020-04-15T14:18:05.887355Z",
     "start_time": "2020-04-15T14:18:05.806388Z"
    }
   },
   "outputs": [],
   "source": [
    "input_filename = \"../../data/processed/DPEFs/dpef_paragraphs.csv\"\n",
    "output_filename = \"../../data/processed/DPEFs/dpef_paragraphs_sentences.csv\"\n",
    "output_filename2 = \"../../data/processed/DPEFs/dpef_paragraphs_sentences_long_format.csv\"\n",
    "df = pd.read_csv(input_filename, sep=\";\")\n",
    "df = df[df.paragraph.notna()] # nan created while saving/ removing header -> to correct\n",
    "df = df.loc[5000:10000]"
   ]
  },
  {
   "cell_type": "code",
   "execution_count": 9,
   "metadata": {
    "ExecuteTime": {
     "end_time": "2020-04-15T14:18:05.970187Z",
     "start_time": "2020-04-15T14:18:05.957229Z"
    }
   },
   "outputs": [
    {
     "data": {
      "text/html": [
       "<div>\n",
       "<style scoped>\n",
       "    .dataframe tbody tr th:only-of-type {\n",
       "        vertical-align: middle;\n",
       "    }\n",
       "\n",
       "    .dataframe tbody tr th {\n",
       "        vertical-align: top;\n",
       "    }\n",
       "\n",
       "    .dataframe thead th {\n",
       "        text-align: right;\n",
       "    }\n",
       "</style>\n",
       "<table border=\"1\" class=\"dataframe\">\n",
       "  <thead>\n",
       "    <tr style=\"text-align: right;\">\n",
       "      <th></th>\n",
       "      <th>project_denomination</th>\n",
       "      <th>paragraph_id</th>\n",
       "      <th>page_nb</th>\n",
       "      <th>paragraph</th>\n",
       "      <th>x_group</th>\n",
       "      <th>y_min_paragraph</th>\n",
       "      <th>y_max_paragraph</th>\n",
       "    </tr>\n",
       "  </thead>\n",
       "  <tbody>\n",
       "    <tr>\n",
       "      <th>5000</th>\n",
       "      <td>eiffage</td>\n",
       "      <td>2193</td>\n",
       "      <td>193</td>\n",
       "      <td>les infrastructures, développer des réseaux énergétiques soutenables,</td>\n",
       "      <td>0</td>\n",
       "      <td>129</td>\n",
       "      <td>138</td>\n",
       "    </tr>\n",
       "    <tr>\n",
       "      <th>5001</th>\n",
       "      <td>eiffage</td>\n",
       "      <td>2194</td>\n",
       "      <td>193</td>\n",
       "      <td>concevoir la ville comme un réseau dynamique d’échanges et de déve-</td>\n",
       "      <td>0</td>\n",
       "      <td>117</td>\n",
       "      <td>126</td>\n",
       "    </tr>\n",
       "    <tr>\n",
       "      <th>5002</th>\n",
       "      <td>eiffage</td>\n",
       "      <td>2195</td>\n",
       "      <td>193</td>\n",
       "      <td>loppement : de par la multiplicité et la diversité de ses chantiers et de ses</td>\n",
       "      <td>0</td>\n",
       "      <td>105</td>\n",
       "      <td>114</td>\n",
       "    </tr>\n",
       "    <tr>\n",
       "      <th>5003</th>\n",
       "      <td>eiffage</td>\n",
       "      <td>2196</td>\n",
       "      <td>193</td>\n",
       "      <td>activités, Eiffage est un acteur clé du développement territorial durable.</td>\n",
       "      <td>0</td>\n",
       "      <td>93</td>\n",
       "      <td>102</td>\n",
       "    </tr>\n",
       "    <tr>\n",
       "      <th>5004</th>\n",
       "      <td>eiffage</td>\n",
       "      <td>2197</td>\n",
       "      <td>193</td>\n",
       "      <td>À l’international comme sur le territoire français, le Groupe s’attache</td>\n",
       "      <td>0</td>\n",
       "      <td>81</td>\n",
       "      <td>90</td>\n",
       "    </tr>\n",
       "  </tbody>\n",
       "</table>\n",
       "</div>"
      ],
      "text/plain": [
       "     project_denomination  paragraph_id  page_nb  \\\n",
       "5000  eiffage              2193          193       \n",
       "5001  eiffage              2194          193       \n",
       "5002  eiffage              2195          193       \n",
       "5003  eiffage              2196          193       \n",
       "5004  eiffage              2197          193       \n",
       "\n",
       "                                                                          paragraph  \\\n",
       "5000  les infrastructures, développer des réseaux énergétiques soutenables,           \n",
       "5001  concevoir la ville comme un réseau dynamique d’échanges et de déve-             \n",
       "5002  loppement : de par la multiplicité et la diversité de ses chantiers et de ses   \n",
       "5003  activités, Eiffage est un acteur clé du développement territorial durable.      \n",
       "5004  À l’international comme sur le territoire français, le Groupe s’attache         \n",
       "\n",
       "      x_group  y_min_paragraph  y_max_paragraph  \n",
       "5000  0        129              138              \n",
       "5001  0        117              126              \n",
       "5002  0        105              114              \n",
       "5003  0        93               102              \n",
       "5004  0        81               90               "
      ]
     },
     "execution_count": 9,
     "metadata": {},
     "output_type": "execute_result"
    }
   ],
   "source": [
    "df.head()"
   ]
  },
  {
   "cell_type": "code",
   "execution_count": 6,
   "metadata": {
    "ExecuteTime": {
     "end_time": "2020-04-10T14:30:37.203790Z",
     "start_time": "2020-04-10T14:30:35.112303Z"
    }
   },
   "outputs": [
    {
     "name": "stdout",
     "output_type": "stream",
     "text": [
      "(5000, 8)\n",
      "(2473, 8)\n"
     ]
    }
   ],
   "source": [
    "# params\n",
    "MIN_NB_OF_TOKENS = 8\n",
    "\n",
    "# custom parser to split sentences while ignoring title section like cf. and splitting on \"etc.\"\n",
    "nlp = French()\n",
    "\n",
    "def custom_sentence_boundaries(doc):\n",
    "    for i, token in enumerate(doc[2:]):\n",
    "        if exception_to_split(token):\n",
    "            token.is_sent_start = False\n",
    "        if exception_to_not_split(token):\n",
    "            token.is_sent_start = True\n",
    "    return doc\n",
    "\n",
    "def exception_to_split(token):\n",
    "    if 'cf' in token.nbor(-2).text and token.nbor(-1).text == \".\":\n",
    "        return True\n",
    "    return False\n",
    "\n",
    "def exception_to_not_split(token):\n",
    "    if 'etc' in token.nbor(-2).text and token.nbor(-1).text == \".\":\n",
    "        return True\n",
    "    return False\n",
    "nlp.add_pipe(nlp.create_pipe('sentencizer')) # to keep default sentencizer as\n",
    "nlp.add_pipe(custom_sentence_boundaries) # add exception and remove exceptions\n",
    "# split, keep only the text and forget the nlp tagging for now\n",
    "df_sent = df[\"paragraph\"].apply(lambda x: [sent.text for sent in nlp(x).sents if len(sent)>MIN_NB_OF_TOKENS])\n",
    "# save\n",
    "df[\"paragraph_sentences\"] = df_sent.values\n",
    "print(df.shape)\n",
    "df = df[df[\"paragraph_sentences\"].apply(lambda x : len(x)>0)]\n",
    "print(df.shape)\n",
    "df.to_csv(output_filename, sep=\";\")"
   ]
  },
  {
   "cell_type": "code",
   "execution_count": 146,
   "metadata": {
    "ExecuteTime": {
     "end_time": "2020-04-06T16:51:32.862210Z",
     "start_time": "2020-04-06T16:51:30.875331Z"
    }
   },
   "outputs": [],
   "source": [
    "# reshaping following https://stackoverflow.com/questions/53860398/pandas-dataframe-how-do-i-split-one-row-into-multiple-rows-by-multi-value-colum/53860543\n",
    "# convert list of pd.Series then stack it\n",
    "df2 = (df\n",
    " .set_index(df.columns[:-1].values.tolist())['paragraph_sentences'] # all except last colname as index\n",
    " .apply(pd.Series)\n",
    " .stack()\n",
    " .reset_index()\n",
    " .drop('level_{}'.format(len(df.columns)-1), axis=1)\n",
    " .rename(columns={0:'sentence'}))\n",
    "df2.to_csv(output_filename2, sep=\";\")"
   ]
  },
  {
   "cell_type": "code",
   "execution_count": 9,
   "metadata": {
    "ExecuteTime": {
     "end_time": "2020-04-10T14:31:06.934186Z",
     "start_time": "2020-04-10T14:31:06.928212Z"
    }
   },
   "outputs": [
    {
     "data": {
      "text/plain": [
       "4423     logements occupés par des clients particuliers...\n",
       "12149    des associations telles que la Croix Rouge, Em...\n",
       "13358                      D A R E 2 0 1 8 À N E W Y O R K\n",
       "10938    Le pourcentage de salariés déclarés en situati...\n",
       "300      Afrique, Inde, Moyen Amérique Orient Centrale ...\n",
       "                               ...                        \n",
       "2254     Un panel large d’actions de communication pour...\n",
       "11664    liées au transport des collaborateurs et au tr...\n",
       "1192     la démarche Ecosite utilisée par Bouygues Cons...\n",
       "12091    3.5.1.3.6. Agir pour la santé, la sécurité et ...\n",
       "9780     Les autres pays du Groupe ont également dévelo...\n",
       "Name: paragraph, Length: 2473, dtype: object"
      ]
     },
     "execution_count": 9,
     "metadata": {},
     "output_type": "execute_result"
    }
   ],
   "source": [
    "df.paragraph"
   ]
  }
 ],
 "metadata": {
  "kernelspec": {
   "display_name": "Python 3",
   "language": "python",
   "name": "python3"
  },
  "language_info": {
   "codemirror_mode": {
    "name": "ipython",
    "version": 3
   },
   "file_extension": ".py",
   "mimetype": "text/x-python",
   "name": "python",
   "nbconvert_exporter": "python",
   "pygments_lexer": "ipython3",
   "version": "3.7.5"
  }
 },
 "nbformat": 4,
 "nbformat_minor": 2
}
