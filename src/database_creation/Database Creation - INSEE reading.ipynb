{
 "cells": [
  {
   "cell_type": "code",
   "execution_count": 71,
   "metadata": {
    "ExecuteTime": {
     "end_time": "2020-03-30T18:03:07.093628Z",
     "start_time": "2020-03-30T18:03:07.088677Z"
    }
   },
   "outputs": [],
   "source": [
    "import pandas as pd\n",
    "import numpy as np\n",
    "from tqdm import tqdm\n",
    "from tqdm.notebook import tqdm # to avoid duplicated prints"
   ]
  },
  {
   "cell_type": "markdown",
   "metadata": {},
   "source": [
    "#### Inputs:\n",
    "- Sirene : Fichier StockEtablissementHistorique du 01 mars 2020 [(URL)](https://www.data.gouv.fr/fr/datasets/r/14a5d3e0-b7cf-4aa6-b5fe-c64854727388)\n",
    "- Documentation des variables [(URL)](https://static.data.gouv.fr/resources/base-sirene-des-entreprises-et-de-leurs-etablissements-siren-siret/20191126-150732/description-fichier-stocketablissement.pdf)\n",
    "\n",
    "Seules les données courantes sont disponible. Les données historisées de l'INSEE ne proposent pas la tranche d'effectif. De plus, une données d'effectif n'est pas renseignée quand elle est vieille d'au moins trois ans. On s'intéresse aux entreprises ayant au moins un effectif renseigné à une date postérieure à 2017, et on fait l'hypothèse que les entreprises de plus de 500 employés aujourd'hui (2019 et 2020) en avaient déjà plus de 500 en 2018. Et que les entreprises de plus de 500 employés aujourd'hui n'ayant pas renseignée leurs effectifs sont une minorité."
   ]
  },
  {
   "cell_type": "code",
   "execution_count": 85,
   "metadata": {
    "ExecuteTime": {
     "end_time": "2020-03-30T18:08:33.730994Z",
     "start_time": "2020-03-30T18:07:40.613054Z"
    },
    "scrolled": true
   },
   "outputs": [
    {
     "data": {
      "application/vnd.jupyter.widget-view+json": {
       "model_id": "8dd7470f365745dbb40081d8e3201e58",
       "version_major": 2,
       "version_minor": 0
      },
      "text/plain": [
       "HBox(children=(FloatProgress(value=1.0, bar_style='info', max=1.0), HTML(value='')))"
      ]
     },
     "metadata": {},
     "output_type": "display_data"
    },
    {
     "name": "stdout",
     "output_type": "stream",
     "text": [
      "\n"
     ]
    }
   ],
   "source": [
    "# filters and mapping\n",
    "def above_date(annee, min_annee=2017):\n",
    "    try:\n",
    "        return annee>=min_annee\n",
    "    except:\n",
    "        return False\n",
    "def above_500_employees(tranche):\n",
    "    if int(tranche)>=40:\n",
    "        return True\n",
    "    else:\n",
    "        return False\n",
    "\n",
    "tranches = {41 : \"500 à 999 salariés\",\n",
    "            42 : \"1 000 à 1 999 salariés\",\n",
    "            51 : \"2 000 à 4 999 salariés\",\n",
    "            52 : \"5 000 à 9 999 salariés\",\n",
    "            53 : \"10 000 salariés et plus\"}\n",
    "\n",
    "# read insee database by chunk because it is large\n",
    "chunk_reader = pd.read_csv(\"../../data/input/Entreprises/INSEE/StockEtablissement_utf8.csv\",\n",
    "                 usecols=[\"siren\",\"anneeEffectifsEtablissement\",\"trancheEffectifsEtablissement\"],\n",
    "                 chunksize=100000,na_values=\"NN\",dtype= {\"siren\": str, \n",
    "                                                         \"anneeEffectifsEtablissement\": np.float64,\n",
    "                                                         \"trancheEffectifsEtablissement\": np.float64} )\n",
    "big_companies = []\n",
    "for df in tqdm(chunk_reader): # around 300 expected\n",
    "    df = df[df[\"anneeEffectifsEtablissement\"].apply(above_date)]\n",
    "    df = df[df[\"trancheEffectifsEtablissement\"].apply(above_500_employees)]\n",
    "    big_companies.append(df)\n",
    "df = pd.concat(big_companies,axis=0, ignore_index=True)\n",
    "df[\"trancheEffectifsEtablissement_texte\"] = df[\"trancheEffectifsEtablissement\"].replace(tranches)\n",
    "df.to_csv(\"../../data/processed/Entreprises/insee_entreprises_effectifs_sup_500_post_2017.csv\", sep=\";\", index=False)"
   ]
  }
 ],
 "metadata": {
  "kernelspec": {
   "display_name": "Python 3",
   "language": "python",
   "name": "python3"
  },
  "language_info": {
   "codemirror_mode": {
    "name": "ipython",
    "version": 3
   },
   "file_extension": ".py",
   "mimetype": "text/x-python",
   "name": "python",
   "nbconvert_exporter": "python",
   "pygments_lexer": "ipython3",
   "version": "3.7.5"
  }
 },
 "nbformat": 4,
 "nbformat_minor": 2
}
