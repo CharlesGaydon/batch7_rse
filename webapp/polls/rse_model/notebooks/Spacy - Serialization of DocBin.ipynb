{
 "cells": [
  {
   "cell_type": "markdown",
   "metadata": {},
   "source": [
    "Experimenting on saving DocBin object to have a systematic data structure. https://spacy.io/api/docbin"
   ]
  },
  {
   "cell_type": "code",
   "execution_count": 1,
   "metadata": {
    "ExecuteTime": {
     "end_time": "2020-04-09T14:31:13.534853Z",
     "start_time": "2020-04-09T14:31:12.925371Z"
    }
   },
   "outputs": [
    {
     "data": {
      "text/plain": [
       "'2.2.4'"
      ]
     },
     "execution_count": 1,
     "metadata": {},
     "output_type": "execute_result"
    }
   ],
   "source": [
    "import spacy\n",
    "from spacy.tokens import Doc, DocBin\n",
    "spacy.__version__"
   ]
  },
  {
   "cell_type": "code",
   "execution_count": 2,
   "metadata": {
    "ExecuteTime": {
     "end_time": "2020-04-09T14:31:20.267043Z",
     "start_time": "2020-04-09T14:31:13.535850Z"
    }
   },
   "outputs": [],
   "source": [
    "nlp = spacy.load(\"fr_core_news_sm\")\n",
    "Doc.set_extension(\"paragraph_id\", default=None)"
   ]
  },
  {
   "cell_type": "code",
   "execution_count": 17,
   "metadata": {
    "ExecuteTime": {
     "end_time": "2020-04-09T14:38:58.008463Z",
     "start_time": "2020-04-09T14:38:57.972371Z"
    }
   },
   "outputs": [],
   "source": [
    "doc_bin = DocBin(attrs=[\"POS\",\"ENT_IOB\"], store_user_data=True)\n",
    "texts =((\"This is some text\",{\"paragraph_id\":1}), \n",
    "        (\"This is some fancy text also and a citation\",{\"paragraph_id\":3}))\n",
    "\n",
    "def add_context(doc, context):\n",
    "    for key, value in context.items():\n",
    "        exec(\"doc._.{key} = {value}\".format(key=key, value=value))\n",
    "    return doc\n",
    "\n",
    "for doc, context in nlp.pipe(texts, as_tuples=True): # fait tout buguer -  n_process =-1\n",
    "    doc = add_context(doc, context)\n",
    "    doc_bin.add(doc)\n",
    "\n",
    "# custom attribute will be registred later - to be listed in user_data"
   ]
  },
  {
   "cell_type": "code",
   "execution_count": 16,
   "metadata": {
    "ExecuteTime": {
     "end_time": "2020-04-09T14:38:28.600582Z",
     "start_time": "2020-04-09T14:38:28.596624Z"
    }
   },
   "outputs": [],
   "source": [
    "key = \"paragraph_id\"\n",
    "value = 7\n"
   ]
  },
  {
   "cell_type": "code",
   "execution_count": 15,
   "metadata": {
    "ExecuteTime": {
     "end_time": "2020-04-09T14:37:58.251815Z",
     "start_time": "2020-04-09T14:37:58.246828Z"
    }
   },
   "outputs": [],
   "source": [
    "doc._.paragraph_id = 7"
   ]
  }
 ],
 "metadata": {
  "kernelspec": {
   "display_name": "Python 3",
   "language": "python",
   "name": "python3"
  },
  "language_info": {
   "codemirror_mode": {
    "name": "ipython",
    "version": 3
   },
   "file_extension": ".py",
   "mimetype": "text/x-python",
   "name": "python",
   "nbconvert_exporter": "python",
   "pygments_lexer": "ipython3",
   "version": "3.7.5"
  }
 },
 "nbformat": 4,
 "nbformat_minor": 2
}
